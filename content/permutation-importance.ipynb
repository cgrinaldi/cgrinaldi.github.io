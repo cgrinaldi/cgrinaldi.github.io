{
 "cells": [
  {
   "cell_type": "markdown",
   "metadata": {},
   "source": [
    "- title: Permutation Importance\n",
    "- date: 2020-04-05 12:00\n",
    "- category: Machine learning\n",
    "- tags: ml explainability, sklearn, pandas\n",
    "- slug: permutation-importance\n",
    "- authors: Chris Rinaldi\n",
    "- summary: A quick look at calculating permutation importance"
   ]
  },
  {
   "cell_type": "markdown",
   "metadata": {},
   "source": [
    "**Permutation Importance** is a way to better understand what features in your model have the most impact when predicting the target variable. In other words, it is a way to measure **feature importance**."
   ]
  },
  {
   "cell_type": "markdown",
   "metadata": {},
   "source": [
    "Conceptually, it is easy to understand and can be applied to any model. There is also a nice Python package, [eli5](https://eli5.readthedocs.io/en/latest/index.html) to calculate it."
   ]
  },
  {
   "cell_type": "markdown",
   "metadata": {},
   "source": [
    "# Create Datasets\n",
    "\n",
    "This isn't the point of this post, but we'll be using the [California Housing Dataset](https://scikit-learn.org/stable/modules/generated/sklearn.datasets.fetch_california_housing.html). Let's quickly create the necessary datasets we'll be needing."
   ]
  },
  {
   "cell_type": "code",
   "execution_count": 1,
   "metadata": {},
   "outputs": [
    {
     "name": "stdout",
     "output_type": "stream",
     "text": [
      "(16512, 8)\n"
     ]
    },
    {
     "data": {
      "text/html": [
       "<div>\n",
       "<style scoped>\n",
       "    .dataframe tbody tr th:only-of-type {\n",
       "        vertical-align: middle;\n",
       "    }\n",
       "\n",
       "    .dataframe tbody tr th {\n",
       "        vertical-align: top;\n",
       "    }\n",
       "\n",
       "    .dataframe thead th {\n",
       "        text-align: right;\n",
       "    }\n",
       "</style>\n",
       "<table border=\"1\" class=\"dataframe\">\n",
       "  <thead>\n",
       "    <tr style=\"text-align: right;\">\n",
       "      <th></th>\n",
       "      <th>MedInc</th>\n",
       "      <th>HouseAge</th>\n",
       "      <th>AveRooms</th>\n",
       "      <th>AveBedrms</th>\n",
       "      <th>Population</th>\n",
       "      <th>AveOccup</th>\n",
       "      <th>Latitude</th>\n",
       "      <th>Longitude</th>\n",
       "    </tr>\n",
       "  </thead>\n",
       "  <tbody>\n",
       "    <tr>\n",
       "      <th>20307</th>\n",
       "      <td>2.6098</td>\n",
       "      <td>18.0</td>\n",
       "      <td>3.706056</td>\n",
       "      <td>1.016248</td>\n",
       "      <td>3129.0</td>\n",
       "      <td>4.621861</td>\n",
       "      <td>34.15</td>\n",
       "      <td>-119.17</td>\n",
       "    </tr>\n",
       "    <tr>\n",
       "      <th>2005</th>\n",
       "      <td>0.7990</td>\n",
       "      <td>25.0</td>\n",
       "      <td>3.645435</td>\n",
       "      <td>1.150743</td>\n",
       "      <td>1343.0</td>\n",
       "      <td>2.851380</td>\n",
       "      <td>36.74</td>\n",
       "      <td>-119.80</td>\n",
       "    </tr>\n",
       "    <tr>\n",
       "      <th>8296</th>\n",
       "      <td>4.3889</td>\n",
       "      <td>52.0</td>\n",
       "      <td>4.290064</td>\n",
       "      <td>1.028846</td>\n",
       "      <td>1144.0</td>\n",
       "      <td>1.833333</td>\n",
       "      <td>33.76</td>\n",
       "      <td>-118.14</td>\n",
       "    </tr>\n",
       "    <tr>\n",
       "      <th>3476</th>\n",
       "      <td>8.1248</td>\n",
       "      <td>18.0</td>\n",
       "      <td>7.851309</td>\n",
       "      <td>1.021990</td>\n",
       "      <td>3189.0</td>\n",
       "      <td>3.339267</td>\n",
       "      <td>34.32</td>\n",
       "      <td>-118.52</td>\n",
       "    </tr>\n",
       "    <tr>\n",
       "      <th>5901</th>\n",
       "      <td>2.4074</td>\n",
       "      <td>24.0</td>\n",
       "      <td>3.333333</td>\n",
       "      <td>1.050401</td>\n",
       "      <td>2522.0</td>\n",
       "      <td>2.888889</td>\n",
       "      <td>34.17</td>\n",
       "      <td>-118.31</td>\n",
       "    </tr>\n",
       "  </tbody>\n",
       "</table>\n",
       "</div>"
      ],
      "text/plain": [
       "       MedInc  HouseAge  AveRooms  AveBedrms  Population  AveOccup  Latitude  \\\n",
       "20307  2.6098      18.0  3.706056   1.016248      3129.0  4.621861     34.15   \n",
       "2005   0.7990      25.0  3.645435   1.150743      1343.0  2.851380     36.74   \n",
       "8296   4.3889      52.0  4.290064   1.028846      1144.0  1.833333     33.76   \n",
       "3476   8.1248      18.0  7.851309   1.021990      3189.0  3.339267     34.32   \n",
       "5901   2.4074      24.0  3.333333   1.050401      2522.0  2.888889     34.17   \n",
       "\n",
       "       Longitude  \n",
       "20307    -119.17  \n",
       "2005     -119.80  \n",
       "8296     -118.14  \n",
       "3476     -118.52  \n",
       "5901     -118.31  "
      ]
     },
     "execution_count": 1,
     "metadata": {},
     "output_type": "execute_result"
    }
   ],
   "source": [
    "import warnings\n",
    "warnings.filterwarnings('ignore')\n",
    "\n",
    "import sklearn\n",
    "import pandas as pd\n",
    "from sklearn.datasets import fetch_california_housing\n",
    "from sklearn.model_selection import train_test_split\n",
    "\n",
    "def init_data():\n",
    "    \"\"\"Fetch the California data and create Pandas DataFrame.\"\"\"\n",
    "    raw_data = fetch_california_housing()\n",
    "    data = pd.DataFrame(raw_data['data'], columns=raw_data['feature_names'])\n",
    "    data['Price'] = raw_data['target']\n",
    "    return data\n",
    "\n",
    "def create_datasets(data, validation_frac=0.2):\n",
    "    \"\"\"Create training and validation datasets.\"\"\"\n",
    "    y = data['Price']\n",
    "    X = data.drop(columns=['Price'])\n",
    "    return train_test_split(X, y, test_size=validation_frac, shuffle=True)\n",
    "\n",
    "data = init_data()\n",
    "X_train, X_val, y_train, y_val = create_datasets(data)\n",
    "\n",
    "print(X_train.shape)\n",
    "X_train.head()"
   ]
  },
  {
   "cell_type": "code",
   "execution_count": 2,
   "metadata": {},
   "outputs": [
    {
     "data": {
      "text/plain": [
       "20307    1.461\n",
       "2005     0.518\n",
       "8296     3.780\n",
       "3476     3.740\n",
       "5901     2.194\n",
       "Name: Price, dtype: float64"
      ]
     },
     "execution_count": 2,
     "metadata": {},
     "output_type": "execute_result"
    }
   ],
   "source": [
    "y_train.head()"
   ]
  },
  {
   "cell_type": "markdown",
   "metadata": {},
   "source": [
    "# Train a RandomForest Model\n",
    "\n",
    "Also not the point of this post, but we need a trained model for which we want to evaluate the **permutation importance** for. In this case, we'll be using **sklearn**'s `RandomForestRegressor`, and evaluating its predictions using `mean_absolute_error()`."
   ]
  },
  {
   "cell_type": "code",
   "execution_count": 3,
   "metadata": {},
   "outputs": [
    {
     "name": "stdout",
     "output_type": "stream",
     "text": [
      "Baseline MAE on validation dataset: 0.922.\n",
      "RF MAE on validation dataset: 0.328\n"
     ]
    }
   ],
   "source": [
    "from sklearn.ensemble import RandomForestRegressor\n",
    "from sklearn.metrics import mean_absolute_error\n",
    "\n",
    "def train_model_and_predict(X_train, y_train, X_val):\n",
    "    model = RandomForestRegressor()\n",
    "    model.fit(X_train, y_train)\n",
    "    return model, model.predict(X_val)\n",
    "\n",
    "baseline_pred = y_train.mean()\n",
    "model, preds = train_model_and_predict(X_train, y_train, X_val)\n",
    "\n",
    "# Evaluate MAE of predictions\n",
    "baseline_mae = mean_absolute_error([baseline_pred] * len(y_val), y_val)\n",
    "mae = mean_absolute_error(preds, y_val)\n",
    "print(f'Baseline MAE on validation dataset: {baseline_mae:.3f}.')\n",
    "print(f'RF MAE on validation dataset: {mae:.3f}')"
   ]
  },
  {
   "cell_type": "markdown",
   "metadata": {},
   "source": [
    "# Permutation Importance\n",
    "\n",
    "Permtuation Importance allows us to answer the question, \"how would our model have performed if it didn't have access to a particular feature?\". Conceptually, more important features will be the ones that have the largest impact when removed from the modeling process."
   ]
  },
  {
   "cell_type": "markdown",
   "metadata": {},
   "source": [
    "To actually do this, we will do the following:\n",
    "\n",
    "1. Take the trained model\n",
    "2. Randomly shuffle 1 column\n",
    "3. Create predictions using this new dataset \n",
    "4. Calculate the MAE of our predictions\n",
    "5. Subtract the new MAE (which should be higher) from our original MAE"
   ]
  },
  {
   "cell_type": "markdown",
   "metadata": {},
   "source": [
    "Randomly shuffling the feature has the same impact as removing it, since we are completely destroying the relationship with the outcome variable of interest. "
   ]
  },
  {
   "cell_type": "code",
   "execution_count": 4,
   "metadata": {},
   "outputs": [],
   "source": [
    "import numpy as np\n",
    "\n",
    "def shuffle_column(df, column):\n",
    "    \"\"\"Shuffle a single column of a DataFrame, return a copy.\"\"\"\n",
    "    result = df.copy()\n",
    "    result[column] = np.random.permutation(df[column].values)\n",
    "    return result\n",
    "\n",
    "\n",
    "def calc_feature_permutation_mae(model, X, y, feature):\n",
    "    \"\"\"Calculate the MAE after permuting a particular feature.\"\"\"\n",
    "    X_shuffled = shuffle_column(X, feature)\n",
    "    preds_shuffled = model.predict(X_shuffled)\n",
    "    return mean_absolute_error(preds_shuffled, y)\n",
    "\n",
    "\n",
    "def calc_permutation_importance(model, X, y):\n",
    "    \"\"\"Calculate Permutation Importance for all model features.\"\"\"\n",
    "    importances = {}\n",
    "    preds = model.predict(X)\n",
    "    mae = mean_absolute_error(preds, y)\n",
    "    for feature in X:\n",
    "        importances[feature] = calc_feature_permutation_mae(model, X, y, feature) - mae\n",
    "    return sorted(importances.items(), key=lambda x: x[1], reverse=True)"
   ]
  },
  {
   "cell_type": "code",
   "execution_count": 5,
   "metadata": {},
   "outputs": [
    {
     "name": "stdout",
     "output_type": "stream",
     "text": [
      "[('MedInc', 0.4656078229006018), ('Latitude', 0.3681427987533668), ('Longitude', 0.313516140948717), ('AveOccup', 0.15820252426438614), ('HouseAge', 0.05195238744685643), ('AveRooms', 0.03337708491198049), ('AveBedrms', 0.009278008643218094), ('Population', 0.006155723338973851)]\n"
     ]
    },
    {
     "data": {
      "image/png": "[encoded data removed]",
      "text/plain": [
       "<Figure size 576x432 with 1 Axes>"
      ]
     },
     "metadata": {
      "needs_background": "light"
     },
     "output_type": "display_data"
    }
   ],
   "source": [
    "import matplotlib.pyplot as plt\n",
    "\n",
    "result = calc_permutation_importance(model, X_val, y_val)\n",
    "print(result)\n",
    "\n",
    "features = [x[0] for x in result]\n",
    "importances = [x[1] for x in result]\n",
    "plt.figure(figsize=(8, 6))\n",
    "plt.bar(features, importances)\n",
    "plt.xticks(rotation=45)\n",
    "plt.title('Permutation Importance')\n",
    "plt.ylabel('Change in MAE')\n",
    "plt.show()"
   ]
  },
  {
   "cell_type": "markdown",
   "metadata": {},
   "source": [
    "We see that for our model, the most importance features are:\n",
    "- MedInc\n",
    "- Latitude\n",
    "- Longitude\n",
    "\n",
    "**Permutation Importance** found that if we removed the above features, the model's performance degrades the most. Conversely, it found we could drop the **Population** feature and not lose any predictive power."
   ]
  },
  {
   "cell_type": "markdown",
   "metadata": {},
   "source": [
    "# ELI5 and Permutation Importance\n",
    "\n",
    "[eli5](https://eli5.readthedocs.io/en/latest/index.html) is a Python package that makes it simple to calculate **permutation importance** (amongst other things). If we use `neg_mean_absolute_error` as our scoring function, you'll see that we get values very similar to the ones we calcualted above. It also includes a measure of uncertainty, since it repated the permutation process multiple times."
   ]
  },
  {
   "cell_type": "code",
   "execution_count": 6,
   "metadata": {},
   "outputs": [
    {
     "data": {
      "text/html": [
       "\n",
       "    <style>\n",
       "    table.eli5-weights tr:hover {\n",
       "        filter: brightness(85%);\n",
       "    }\n",
       "</style>\n",
       "\n",
       "\n",
       "\n",
       "    \n",
       "\n",
       "    \n",
       "\n",
       "    \n",
       "\n",
       "    \n",
       "\n",
       "    \n",
       "\n",
       "    \n",
       "\n",
       "\n",
       "    \n",
       "\n",
       "    \n",
       "\n",
       "    \n",
       "\n",
       "    \n",
       "\n",
       "    \n",
       "\n",
       "    \n",
       "\n",
       "\n",
       "    \n",
       "\n",
       "    \n",
       "\n",
       "    \n",
       "\n",
       "    \n",
       "\n",
       "    \n",
       "        <table class=\"eli5-weights eli5-feature-importances\" style=\"border-collapse: collapse; border: none; margin-top: 0em; table-layout: auto;\">\n",
       "    <thead>\n",
       "    <tr style=\"border: none;\">\n",
       "        <th style=\"padding: 0 1em 0 0.5em; text-align: right; border: none;\">Weight</th>\n",
       "        <th style=\"padding: 0 0.5em 0 0.5em; text-align: left; border: none;\">Feature</th>\n",
       "    </tr>\n",
       "    </thead>\n",
       "    <tbody>\n",
       "    \n",
       "        <tr style=\"background-color: hsl(120, 100.00%, 80.00%); border: none;\">\n",
       "            <td style=\"padding: 0 1em 0 0.5em; text-align: right; border: none;\">\n",
       "                0.4718\n",
       "                \n",
       "                    &plusmn; 0.0103\n",
       "                \n",
       "            </td>\n",
       "            <td style=\"padding: 0 0.5em 0 0.5em; text-align: left; border: none;\">\n",
       "                MedInc\n",
       "            </td>\n",
       "        </tr>\n",
       "    \n",
       "        <tr style=\"background-color: hsl(120, 100.00%, 83.34%); border: none;\">\n",
       "            <td style=\"padding: 0 1em 0 0.5em; text-align: right; border: none;\">\n",
       "                0.3635\n",
       "                \n",
       "                    &plusmn; 0.0079\n",
       "                \n",
       "            </td>\n",
       "            <td style=\"padding: 0 0.5em 0 0.5em; text-align: left; border: none;\">\n",
       "                Latitude\n",
       "            </td>\n",
       "        </tr>\n",
       "    \n",
       "        <tr style=\"background-color: hsl(120, 100.00%, 85.09%); border: none;\">\n",
       "            <td style=\"padding: 0 1em 0 0.5em; text-align: right; border: none;\">\n",
       "                0.3101\n",
       "                \n",
       "                    &plusmn; 0.0111\n",
       "                \n",
       "            </td>\n",
       "            <td style=\"padding: 0 0.5em 0 0.5em; text-align: left; border: none;\">\n",
       "                Longitude\n",
       "            </td>\n",
       "        </tr>\n",
       "    \n",
       "        <tr style=\"background-color: hsl(120, 100.00%, 90.52%); border: none;\">\n",
       "            <td style=\"padding: 0 1em 0 0.5em; text-align: right; border: none;\">\n",
       "                0.1623\n",
       "                \n",
       "                    &plusmn; 0.0077\n",
       "                \n",
       "            </td>\n",
       "            <td style=\"padding: 0 0.5em 0 0.5em; text-align: left; border: none;\">\n",
       "                AveOccup\n",
       "            </td>\n",
       "        </tr>\n",
       "    \n",
       "        <tr style=\"background-color: hsl(120, 100.00%, 95.47%); border: none;\">\n",
       "            <td style=\"padding: 0 1em 0 0.5em; text-align: right; border: none;\">\n",
       "                0.0566\n",
       "                \n",
       "                    &plusmn; 0.0036\n",
       "                \n",
       "            </td>\n",
       "            <td style=\"padding: 0 0.5em 0 0.5em; text-align: left; border: none;\">\n",
       "                HouseAge\n",
       "            </td>\n",
       "        </tr>\n",
       "    \n",
       "        <tr style=\"background-color: hsl(120, 100.00%, 96.73%); border: none;\">\n",
       "            <td style=\"padding: 0 1em 0 0.5em; text-align: right; border: none;\">\n",
       "                0.0355\n",
       "                \n",
       "                    &plusmn; 0.0021\n",
       "                \n",
       "            </td>\n",
       "            <td style=\"padding: 0 0.5em 0 0.5em; text-align: left; border: none;\">\n",
       "                AveRooms\n",
       "            </td>\n",
       "        </tr>\n",
       "    \n",
       "        <tr style=\"background-color: hsl(120, 100.00%, 98.74%); border: none;\">\n",
       "            <td style=\"padding: 0 1em 0 0.5em; text-align: right; border: none;\">\n",
       "                0.0091\n",
       "                \n",
       "                    &plusmn; 0.0005\n",
       "                \n",
       "            </td>\n",
       "            <td style=\"padding: 0 0.5em 0 0.5em; text-align: left; border: none;\">\n",
       "                AveBedrms\n",
       "            </td>\n",
       "        </tr>\n",
       "    \n",
       "        <tr style=\"background-color: hsl(120, 100.00%, 98.87%); border: none;\">\n",
       "            <td style=\"padding: 0 1em 0 0.5em; text-align: right; border: none;\">\n",
       "                0.0078\n",
       "                \n",
       "                    &plusmn; 0.0022\n",
       "                \n",
       "            </td>\n",
       "            <td style=\"padding: 0 0.5em 0 0.5em; text-align: left; border: none;\">\n",
       "                Population\n",
       "            </td>\n",
       "        </tr>\n",
       "    \n",
       "    \n",
       "    </tbody>\n",
       "</table>\n",
       "    \n",
       "\n",
       "    \n",
       "\n",
       "\n",
       "    \n",
       "\n",
       "    \n",
       "\n",
       "    \n",
       "\n",
       "    \n",
       "\n",
       "    \n",
       "\n",
       "    \n",
       "\n",
       "\n",
       "\n"
      ],
      "text/plain": [
       "<IPython.core.display.HTML object>"
      ]
     },
     "execution_count": 6,
     "metadata": {},
     "output_type": "execute_result"
    }
   ],
   "source": [
    "import eli5\n",
    "from eli5.sklearn import PermutationImportance\n",
    "\n",
    "perm = PermutationImportance(model, scoring='neg_mean_absolute_error').fit(X_val, y_val)\n",
    "eli5.show_weights(perm, feature_names=X_val.columns.tolist())"
   ]
  }
 ],
 "metadata": {
  "kernelspec": {
   "display_name": "Python 3",
   "language": "python",
   "name": "python3"
  },
  "language_info": {
   "codemirror_mode": {
    "name": "ipython",
    "version": 3
   },
   "file_extension": ".py",
   "mimetype": "text/x-python",
   "name": "python",
   "nbconvert_exporter": "python",
   "pygments_lexer": "ipython3",
   "version": "3.7.4"
  }
 },
 "nbformat": 4,
 "nbformat_minor": 4
}
